{
 "cells": [
  {
   "cell_type": "code",
   "execution_count": 1,
   "metadata": {},
   "outputs": [],
   "source": [
    "import pandas as pd\n",
    "import os"
   ]
  },
  {
   "cell_type": "code",
   "execution_count": 2,
   "metadata": {},
   "outputs": [],
   "source": [
    "# copy Raw data and save as TCR Data folder\n",
    "folder_name = '/pigeon/data/TCR Data'\n",
    "for root, dirs, files in os.walk(folder_name):\n",
    "    for file in files:\n",
    "        if file.endswith('.txt'):\n",
    "            data = pd.read_csv(os.path.join(root, file), delimiter = \"\\t\")\n",
    "            data.to_csv(os.path.join(root, file[:-4] + '.csv'), index=False)\n",
    "            os.remove(os.path.join(root, file))"
   ]
  }
 ],
 "metadata": {
  "kernelspec": {
   "display_name": "tensorflow2_cpu",
   "language": "python",
   "name": "python3"
  },
  "language_info": {
   "codemirror_mode": {
    "name": "ipython",
    "version": 3
   },
   "file_extension": ".py",
   "mimetype": "text/x-python",
   "name": "python",
   "nbconvert_exporter": "python",
   "pygments_lexer": "ipython3",
   "version": "3.11.5"
  }
 },
 "nbformat": 4,
 "nbformat_minor": 2
}

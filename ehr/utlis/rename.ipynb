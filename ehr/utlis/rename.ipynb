{
 "cells": [
  {
   "cell_type": "code",
   "execution_count": 1,
   "metadata": {},
   "outputs": [],
   "source": [
    "import os\n",
    "import re"
   ]
  },
  {
   "cell_type": "code",
   "execution_count": 6,
   "metadata": {},
   "outputs": [
    {
     "name": "stdout",
     "output_type": "stream",
     "text": [
      "Renamed: C:/Users/administer/Desktop/PCM__EHR/pigeon/data/TCR Raw Data\\Pt1\\Pt1_F_1.txt -> C:/Users/administer/Desktop/PCM__EHR/pigeon/data/TCR Raw Data\\Pt1\\1_Pt1_F\n",
      "Renamed: C:/Users/administer/Desktop/PCM__EHR/pigeon/data/TCR Raw Data\\Pt1\\Pt1_F_3.txt -> C:/Users/administer/Desktop/PCM__EHR/pigeon/data/TCR Raw Data\\Pt1\\3_Pt1_F\n",
      "Renamed: C:/Users/administer/Desktop/PCM__EHR/pigeon/data/TCR Raw Data\\Pt1\\Pt1_R_2.txt -> C:/Users/administer/Desktop/PCM__EHR/pigeon/data/TCR Raw Data\\Pt1\\2_Pt1_R\n",
      "Renamed: C:/Users/administer/Desktop/PCM__EHR/pigeon/data/TCR Raw Data\\Pt1\\Pt1_R_4.txt -> C:/Users/administer/Desktop/PCM__EHR/pigeon/data/TCR Raw Data\\Pt1\\4_Pt1_R\n",
      "Renamed: C:/Users/administer/Desktop/PCM__EHR/pigeon/data/TCR Raw Data\\Pt10\\Pt10_F_1.txt -> C:/Users/administer/Desktop/PCM__EHR/pigeon/data/TCR Raw Data\\Pt10\\1_Pt10_F\n",
      "Renamed: C:/Users/administer/Desktop/PCM__EHR/pigeon/data/TCR Raw Data\\Pt10\\Pt10_R_2.txt -> C:/Users/administer/Desktop/PCM__EHR/pigeon/data/TCR Raw Data\\Pt10\\2_Pt10_R\n",
      "Renamed: C:/Users/administer/Desktop/PCM__EHR/pigeon/data/TCR Raw Data\\Pt11\\Pt11_F_1.txt -> C:/Users/administer/Desktop/PCM__EHR/pigeon/data/TCR Raw Data\\Pt11\\1_Pt11_F\n",
      "Renamed: C:/Users/administer/Desktop/PCM__EHR/pigeon/data/TCR Raw Data\\Pt11\\Pt11_F_4.txt -> C:/Users/administer/Desktop/PCM__EHR/pigeon/data/TCR Raw Data\\Pt11\\4_Pt11_F\n",
      "Renamed: C:/Users/administer/Desktop/PCM__EHR/pigeon/data/TCR Raw Data\\Pt11\\Pt11_R_2.txt -> C:/Users/administer/Desktop/PCM__EHR/pigeon/data/TCR Raw Data\\Pt11\\2_Pt11_R\n",
      "Renamed: C:/Users/administer/Desktop/PCM__EHR/pigeon/data/TCR Raw Data\\Pt11\\Pt11_R_3.txt -> C:/Users/administer/Desktop/PCM__EHR/pigeon/data/TCR Raw Data\\Pt11\\3_Pt11_R\n",
      "Renamed: C:/Users/administer/Desktop/PCM__EHR/pigeon/data/TCR Raw Data\\Pt12\\Pt12_F_1.txt -> C:/Users/administer/Desktop/PCM__EHR/pigeon/data/TCR Raw Data\\Pt12\\1_Pt12_F\n",
      "Renamed: C:/Users/administer/Desktop/PCM__EHR/pigeon/data/TCR Raw Data\\Pt12\\Pt12_F_2.txt -> C:/Users/administer/Desktop/PCM__EHR/pigeon/data/TCR Raw Data\\Pt12\\2_Pt12_F\n",
      "Renamed: C:/Users/administer/Desktop/PCM__EHR/pigeon/data/TCR Raw Data\\Pt13\\Pt13_F_1.txt -> C:/Users/administer/Desktop/PCM__EHR/pigeon/data/TCR Raw Data\\Pt13\\1_Pt13_F\n",
      "Renamed: C:/Users/administer/Desktop/PCM__EHR/pigeon/data/TCR Raw Data\\Pt13\\Pt13_F_3.txt -> C:/Users/administer/Desktop/PCM__EHR/pigeon/data/TCR Raw Data\\Pt13\\3_Pt13_F\n",
      "Renamed: C:/Users/administer/Desktop/PCM__EHR/pigeon/data/TCR Raw Data\\Pt13\\Pt13_R_2.txt -> C:/Users/administer/Desktop/PCM__EHR/pigeon/data/TCR Raw Data\\Pt13\\2_Pt13_R\n",
      "Renamed: C:/Users/administer/Desktop/PCM__EHR/pigeon/data/TCR Raw Data\\Pt14\\Pt14_F_1.txt -> C:/Users/administer/Desktop/PCM__EHR/pigeon/data/TCR Raw Data\\Pt14\\1_Pt14_F\n",
      "Renamed: C:/Users/administer/Desktop/PCM__EHR/pigeon/data/TCR Raw Data\\Pt14\\Pt14_F_2.txt -> C:/Users/administer/Desktop/PCM__EHR/pigeon/data/TCR Raw Data\\Pt14\\2_Pt14_F\n",
      "Renamed: C:/Users/administer/Desktop/PCM__EHR/pigeon/data/TCR Raw Data\\Pt14\\Pt14_R_3.txt -> C:/Users/administer/Desktop/PCM__EHR/pigeon/data/TCR Raw Data\\Pt14\\3_Pt14_R\n",
      "Renamed: C:/Users/administer/Desktop/PCM__EHR/pigeon/data/TCR Raw Data\\Pt15\\Pt15_F_1.txt -> C:/Users/administer/Desktop/PCM__EHR/pigeon/data/TCR Raw Data\\Pt15\\1_Pt15_F\n",
      "Renamed: C:/Users/administer/Desktop/PCM__EHR/pigeon/data/TCR Raw Data\\Pt15\\Pt15_R_2.txt -> C:/Users/administer/Desktop/PCM__EHR/pigeon/data/TCR Raw Data\\Pt15\\2_Pt15_R\n",
      "Renamed: C:/Users/administer/Desktop/PCM__EHR/pigeon/data/TCR Raw Data\\Pt15\\Pt15_R_3.txt -> C:/Users/administer/Desktop/PCM__EHR/pigeon/data/TCR Raw Data\\Pt15\\3_Pt15_R\n",
      "Renamed: C:/Users/administer/Desktop/PCM__EHR/pigeon/data/TCR Raw Data\\Pt16\\Pt16_F_1.txt -> C:/Users/administer/Desktop/PCM__EHR/pigeon/data/TCR Raw Data\\Pt16\\1_Pt16_F\n",
      "Renamed: C:/Users/administer/Desktop/PCM__EHR/pigeon/data/TCR Raw Data\\Pt16\\Pt16_F_2.txt -> C:/Users/administer/Desktop/PCM__EHR/pigeon/data/TCR Raw Data\\Pt16\\2_Pt16_F\n",
      "Renamed: C:/Users/administer/Desktop/PCM__EHR/pigeon/data/TCR Raw Data\\Pt16\\Pt16_R_3.txt -> C:/Users/administer/Desktop/PCM__EHR/pigeon/data/TCR Raw Data\\Pt16\\3_Pt16_R\n",
      "Renamed: C:/Users/administer/Desktop/PCM__EHR/pigeon/data/TCR Raw Data\\Pt17\\Pt17_F_1.txt -> C:/Users/administer/Desktop/PCM__EHR/pigeon/data/TCR Raw Data\\Pt17\\1_Pt17_F\n",
      "Renamed: C:/Users/administer/Desktop/PCM__EHR/pigeon/data/TCR Raw Data\\Pt17\\Pt17_F_2.txt -> C:/Users/administer/Desktop/PCM__EHR/pigeon/data/TCR Raw Data\\Pt17\\2_Pt17_F\n",
      "Renamed: C:/Users/administer/Desktop/PCM__EHR/pigeon/data/TCR Raw Data\\Pt18\\Pt18_F_1.txt -> C:/Users/administer/Desktop/PCM__EHR/pigeon/data/TCR Raw Data\\Pt18\\1_Pt18_F\n",
      "Renamed: C:/Users/administer/Desktop/PCM__EHR/pigeon/data/TCR Raw Data\\Pt18\\Pt18_F_2.txt -> C:/Users/administer/Desktop/PCM__EHR/pigeon/data/TCR Raw Data\\Pt18\\2_Pt18_F\n",
      "Renamed: C:/Users/administer/Desktop/PCM__EHR/pigeon/data/TCR Raw Data\\Pt18\\Pt18_F_3.txt -> C:/Users/administer/Desktop/PCM__EHR/pigeon/data/TCR Raw Data\\Pt18\\3_Pt18_F\n",
      "Renamed: C:/Users/administer/Desktop/PCM__EHR/pigeon/data/TCR Raw Data\\Pt19\\Pt19_F_3.txt -> C:/Users/administer/Desktop/PCM__EHR/pigeon/data/TCR Raw Data\\Pt19\\3_Pt19_F\n",
      "Renamed: C:/Users/administer/Desktop/PCM__EHR/pigeon/data/TCR Raw Data\\Pt19\\Pt19_R_1.txt -> C:/Users/administer/Desktop/PCM__EHR/pigeon/data/TCR Raw Data\\Pt19\\1_Pt19_R\n",
      "Renamed: C:/Users/administer/Desktop/PCM__EHR/pigeon/data/TCR Raw Data\\Pt19\\Pt19_R_2.txt -> C:/Users/administer/Desktop/PCM__EHR/pigeon/data/TCR Raw Data\\Pt19\\2_Pt19_R\n",
      "Renamed: C:/Users/administer/Desktop/PCM__EHR/pigeon/data/TCR Raw Data\\Pt19\\Pt19_R_4.txt -> C:/Users/administer/Desktop/PCM__EHR/pigeon/data/TCR Raw Data\\Pt19\\4_Pt19_R\n",
      "Renamed: C:/Users/administer/Desktop/PCM__EHR/pigeon/data/TCR Raw Data\\Pt2\\Pt2_F_1.txt -> C:/Users/administer/Desktop/PCM__EHR/pigeon/data/TCR Raw Data\\Pt2\\1_Pt2_F\n",
      "Renamed: C:/Users/administer/Desktop/PCM__EHR/pigeon/data/TCR Raw Data\\Pt2\\Pt2_R_2.txt -> C:/Users/administer/Desktop/PCM__EHR/pigeon/data/TCR Raw Data\\Pt2\\2_Pt2_R\n",
      "Renamed: C:/Users/administer/Desktop/PCM__EHR/pigeon/data/TCR Raw Data\\Pt20\\Pt20_F_1.txt -> C:/Users/administer/Desktop/PCM__EHR/pigeon/data/TCR Raw Data\\Pt20\\1_Pt20_F\n",
      "Renamed: C:/Users/administer/Desktop/PCM__EHR/pigeon/data/TCR Raw Data\\Pt20\\Pt20_R_2.txt -> C:/Users/administer/Desktop/PCM__EHR/pigeon/data/TCR Raw Data\\Pt20\\2_Pt20_R\n",
      "Renamed: C:/Users/administer/Desktop/PCM__EHR/pigeon/data/TCR Raw Data\\Pt20\\Pt20_R_3.txt -> C:/Users/administer/Desktop/PCM__EHR/pigeon/data/TCR Raw Data\\Pt20\\3_Pt20_R\n",
      "Renamed: C:/Users/administer/Desktop/PCM__EHR/pigeon/data/TCR Raw Data\\Pt21\\Pt21_F_2.txt -> C:/Users/administer/Desktop/PCM__EHR/pigeon/data/TCR Raw Data\\Pt21\\2_Pt21_F\n",
      "Renamed: C:/Users/administer/Desktop/PCM__EHR/pigeon/data/TCR Raw Data\\Pt21\\Pt21_F_3.txt -> C:/Users/administer/Desktop/PCM__EHR/pigeon/data/TCR Raw Data\\Pt21\\3_Pt21_F\n",
      "Renamed: C:/Users/administer/Desktop/PCM__EHR/pigeon/data/TCR Raw Data\\Pt21\\Pt21_F_4.txt -> C:/Users/administer/Desktop/PCM__EHR/pigeon/data/TCR Raw Data\\Pt21\\4_Pt21_F\n",
      "Renamed: C:/Users/administer/Desktop/PCM__EHR/pigeon/data/TCR Raw Data\\Pt21\\Pt21_R_1.txt -> C:/Users/administer/Desktop/PCM__EHR/pigeon/data/TCR Raw Data\\Pt21\\1_Pt21_R\n",
      "Renamed: C:/Users/administer/Desktop/PCM__EHR/pigeon/data/TCR Raw Data\\Pt3\\Pt3_F_1.txt -> C:/Users/administer/Desktop/PCM__EHR/pigeon/data/TCR Raw Data\\Pt3\\1_Pt3_F\n",
      "Renamed: C:/Users/administer/Desktop/PCM__EHR/pigeon/data/TCR Raw Data\\Pt3\\Pt3_F_2.txt -> C:/Users/administer/Desktop/PCM__EHR/pigeon/data/TCR Raw Data\\Pt3\\2_Pt3_F\n",
      "Renamed: C:/Users/administer/Desktop/PCM__EHR/pigeon/data/TCR Raw Data\\Pt4\\Pt4_F_1.txt -> C:/Users/administer/Desktop/PCM__EHR/pigeon/data/TCR Raw Data\\Pt4\\1_Pt4_F\n",
      "Renamed: C:/Users/administer/Desktop/PCM__EHR/pigeon/data/TCR Raw Data\\Pt4\\Pt4_R_2.txt -> C:/Users/administer/Desktop/PCM__EHR/pigeon/data/TCR Raw Data\\Pt4\\2_Pt4_R\n",
      "Renamed: C:/Users/administer/Desktop/PCM__EHR/pigeon/data/TCR Raw Data\\Pt5\\Pt5_F_1.txt -> C:/Users/administer/Desktop/PCM__EHR/pigeon/data/TCR Raw Data\\Pt5\\1_Pt5_F\n",
      "Renamed: C:/Users/administer/Desktop/PCM__EHR/pigeon/data/TCR Raw Data\\Pt6\\Pt6_F_1.txt -> C:/Users/administer/Desktop/PCM__EHR/pigeon/data/TCR Raw Data\\Pt6\\1_Pt6_F\n",
      "Renamed: C:/Users/administer/Desktop/PCM__EHR/pigeon/data/TCR Raw Data\\Pt6\\Pt6_R_2.txt -> C:/Users/administer/Desktop/PCM__EHR/pigeon/data/TCR Raw Data\\Pt6\\2_Pt6_R\n",
      "Renamed: C:/Users/administer/Desktop/PCM__EHR/pigeon/data/TCR Raw Data\\Pt6\\Pt6_R_3.txt -> C:/Users/administer/Desktop/PCM__EHR/pigeon/data/TCR Raw Data\\Pt6\\3_Pt6_R\n",
      "Renamed: C:/Users/administer/Desktop/PCM__EHR/pigeon/data/TCR Raw Data\\Pt7\\Pt7_R_2.txt -> C:/Users/administer/Desktop/PCM__EHR/pigeon/data/TCR Raw Data\\Pt7\\2_Pt7_R\n",
      "Renamed: C:/Users/administer/Desktop/PCM__EHR/pigeon/data/TCR Raw Data\\Pt7\\Pt7_R_3.txt -> C:/Users/administer/Desktop/PCM__EHR/pigeon/data/TCR Raw Data\\Pt7\\3_Pt7_R\n",
      "Renamed: C:/Users/administer/Desktop/PCM__EHR/pigeon/data/TCR Raw Data\\Pt8\\Pt8_F_1.txt -> C:/Users/administer/Desktop/PCM__EHR/pigeon/data/TCR Raw Data\\Pt8\\1_Pt8_F\n",
      "Renamed: C:/Users/administer/Desktop/PCM__EHR/pigeon/data/TCR Raw Data\\Pt8\\Pt8_R_2.txt -> C:/Users/administer/Desktop/PCM__EHR/pigeon/data/TCR Raw Data\\Pt8\\2_Pt8_R\n",
      "Renamed: C:/Users/administer/Desktop/PCM__EHR/pigeon/data/TCR Raw Data\\Pt9\\Pt9_F_1.txt -> C:/Users/administer/Desktop/PCM__EHR/pigeon/data/TCR Raw Data\\Pt9\\1_Pt9_F\n",
      "Renamed: C:/Users/administer/Desktop/PCM__EHR/pigeon/data/TCR Raw Data\\Pt9\\Pt9_F_3.txt -> C:/Users/administer/Desktop/PCM__EHR/pigeon/data/TCR Raw Data\\Pt9\\3_Pt9_F\n",
      "Renamed: C:/Users/administer/Desktop/PCM__EHR/pigeon/data/TCR Raw Data\\Pt9\\Pt9_R_2.txt -> C:/Users/administer/Desktop/PCM__EHR/pigeon/data/TCR Raw Data\\Pt9\\2_Pt9_R\n",
      "Renamed: C:/Users/administer/Desktop/PCM__EHR/pigeon/data/TCR Raw Data\\Pt9\\Pt9_R_4.txt -> C:/Users/administer/Desktop/PCM__EHR/pigeon/data/TCR Raw Data\\Pt9\\4_Pt9_R\n"
     ]
    },
    {
     "ename": "NotADirectoryError",
     "evalue": "[WinError 267] 目录名称无效。: 'C:/Users/administer/Desktop/PCM__EHR/pigeon/data/TCR Raw Data\\\\Pt1\\\\1_Pt1_F'",
     "output_type": "error",
     "traceback": [
      "\u001b[1;31m---------------------------------------------------------------------------\u001b[0m",
      "\u001b[1;31mNotADirectoryError\u001b[0m                        Traceback (most recent call last)",
      "Cell \u001b[1;32mIn[6], line 17\u001b[0m\n\u001b[0;32m     15\u001b[0m     rename_files(os\u001b[38;5;241m.\u001b[39mpath\u001b[38;5;241m.\u001b[39mjoin(root, d))\n\u001b[0;32m     16\u001b[0m \u001b[38;5;28;01mfor\u001b[39;00m f \u001b[38;5;129;01min\u001b[39;00m files:\n\u001b[1;32m---> 17\u001b[0m     \u001b[43mrename_files\u001b[49m\u001b[43m(\u001b[49m\u001b[43mos\u001b[49m\u001b[38;5;241;43m.\u001b[39;49m\u001b[43mpath\u001b[49m\u001b[38;5;241;43m.\u001b[39;49m\u001b[43mjoin\u001b[49m\u001b[43m(\u001b[49m\u001b[43mroot\u001b[49m\u001b[43m,\u001b[49m\u001b[43m \u001b[49m\u001b[43mf\u001b[49m\u001b[43m)\u001b[49m\u001b[43m)\u001b[49m\n",
      "Cell \u001b[1;32mIn[6], line 2\u001b[0m, in \u001b[0;36mrename_files\u001b[1;34m(directory)\u001b[0m\n\u001b[0;32m      1\u001b[0m \u001b[38;5;28;01mdef\u001b[39;00m \u001b[38;5;21mrename_files\u001b[39m(directory):\n\u001b[1;32m----> 2\u001b[0m     \u001b[38;5;28;01mfor\u001b[39;00m filename \u001b[38;5;129;01min\u001b[39;00m os\u001b[38;5;241m.\u001b[39mlistdir(directory):\n\u001b[0;32m      3\u001b[0m         match \u001b[38;5;241m=\u001b[39m re\u001b[38;5;241m.\u001b[39mmatch(\u001b[38;5;124mr\u001b[39m\u001b[38;5;124m'\u001b[39m\u001b[38;5;124m(Pt\u001b[39m\u001b[38;5;124m\\\u001b[39m\u001b[38;5;124md+_[FR])_(\u001b[39m\u001b[38;5;124m\\\u001b[39m\u001b[38;5;124md+)\u001b[39m\u001b[38;5;124m'\u001b[39m, filename)\n\u001b[0;32m      4\u001b[0m         \u001b[38;5;28;01mif\u001b[39;00m match:\n",
      "\u001b[1;31mNotADirectoryError\u001b[0m: [WinError 267] 目录名称无效。: 'C:/Users/administer/Desktop/PCM__EHR/pigeon/data/TCR Raw Data\\\\Pt1\\\\1_Pt1_F'"
     ]
    }
   ],
   "source": [
    "def rename_files(directory):\n",
    "    for filename in os.listdir(directory):\n",
    "        match = re.match(r'(Pt\\d+_[FR])_(\\d+)', filename)\n",
    "        if match:\n",
    "            new_name = f\"{match.group(2)}_{match.group(1)}\"\n",
    "            old_file = os.path.join(directory, filename)\n",
    "            new_file = os.path.join(directory, new_name)\n",
    "            os.rename(old_file, new_file)\n",
    "            print(f\"Renamed: {old_file} -> {new_file}\")\n",
    "\n",
    "\n",
    "directory = 'C:/Users/administer/Desktop/PCM__EHR/pigeon/data/TCR Raw Data' # Change this to the directory you want to rename files in\n",
    "for root, dirs, files in os.walk(directory):\n",
    "    for d in dirs:\n",
    "        rename_files(os.path.join(root, d))\n",
    "    for f in files:\n",
    "        rename_files(os.path.join(root, f))\n"
   ]
  }
 ],
 "metadata": {
  "kernelspec": {
   "display_name": "tensorflow2_cpu",
   "language": "python",
   "name": "python3"
  },
  "language_info": {
   "codemirror_mode": {
    "name": "ipython",
    "version": 3
   },
   "file_extension": ".py",
   "mimetype": "text/x-python",
   "name": "python",
   "nbconvert_exporter": "python",
   "pygments_lexer": "ipython3",
   "version": "3.11.5"
  }
 },
 "nbformat": 4,
 "nbformat_minor": 2
}

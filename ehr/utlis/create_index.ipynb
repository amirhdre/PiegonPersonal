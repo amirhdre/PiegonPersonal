{
 "cells": [
  {
   "cell_type": "code",
   "execution_count": 32,
   "metadata": {},
   "outputs": [],
   "source": [
    "import pandas as pd\n",
    "import os\n"
   ]
  },
  {
   "cell_type": "code",
   "execution_count": 33,
   "metadata": {},
   "outputs": [],
   "source": [
    "data=pd.DataFrame()\n",
    "sample=[]\n",
    "state=[]\n",
    "time=[]\n",
    "locations=[]"
   ]
  },
  {
   "cell_type": "code",
   "execution_count": 35,
   "metadata": {},
   "outputs": [],
   "source": [
    "folder_name = 'C:/Users/administer/Desktop/PCM__EHR/pigeon/data/TCR Data'  # path name should be changed!!!\n",
    "for root, dirs, files in os.walk(folder_name):\n",
    "    for file in files:\n",
    "        if file != 'metadata.csv':\n",
    "            filename=os.path.join(root, file)\n",
    "            parts = file.split('_')\n",
    "            parts[0] = parts[0].replace('Pt', 'Patient')\n",
    "            parts[2] = parts[2].replace('.csv','')\n",
    "            sample.append(parts[0])\n",
    "            state.append(parts[1])\n",
    "            time.append(parts[2])\n",
    "            locations.append(os.path.relpath(os.path.join(root,file),'C:/Users/administer/Desktop/PCM__EHR/'))"
   ]
  },
  {
   "cell_type": "code",
   "execution_count": 37,
   "metadata": {},
   "outputs": [],
   "source": [
    "sample = pd.DataFrame(sample)\n",
    "state = pd.DataFrame(state)\n",
    "time = pd.DataFrame(time)\n",
    "locations = pd.DataFrame(locations)"
   ]
  },
  {
   "cell_type": "code",
   "execution_count": 38,
   "metadata": {},
   "outputs": [
    {
     "name": "stdout",
     "output_type": "stream",
     "text": [
      "        Sample Disease State Time                                Location\n",
      "0     Patient1             F    1    pigeon\\data\\TCR Data\\Pt1\\Pt1_F_1.csv\n",
      "1     Patient1             F    1    pigeon\\data\\TCR Data\\Pt1\\Pt1_F_1.csv\n",
      "2     Patient1             R    2    pigeon\\data\\TCR Data\\Pt1\\Pt1_R_2.csv\n",
      "3     Patient1             R    2    pigeon\\data\\TCR Data\\Pt1\\Pt1_R_2.csv\n",
      "4     Patient1             F    3    pigeon\\data\\TCR Data\\Pt1\\Pt1_F_3.csv\n",
      "..         ...           ...  ...                                     ...\n",
      "111  Patient21             F    2  pigeon\\data\\TCR Data\\Pt21\\Pt21_F_2.csv\n",
      "112  Patient21             F    3  pigeon\\data\\TCR Data\\Pt21\\Pt21_F_3.csv\n",
      "113  Patient21             F    3  pigeon\\data\\TCR Data\\Pt21\\Pt21_F_3.csv\n",
      "114  Patient21             F    4  pigeon\\data\\TCR Data\\Pt21\\Pt21_F_4.csv\n",
      "115  Patient21             F    4  pigeon\\data\\TCR Data\\Pt21\\Pt21_F_4.csv\n",
      "\n",
      "[116 rows x 4 columns]\n"
     ]
    }
   ],
   "source": [
    "data =pd.concat([sample,state,time,locations],axis=1)\n",
    "data.columns=['Sample','Disease State','Time','Location']\n",
    "data['PatientNumber'] = data['Sample'].str.replace('Patient', '').astype(int)\n",
    "data = data.sort_values(by=['PatientNumber', 'Time'])\n",
    "data = data.drop(columns='PatientNumber')\n",
    "data = data.reset_index(drop=True)\n",
    "print(data)"
   ]
  },
  {
   "cell_type": "code",
   "execution_count": 39,
   "metadata": {},
   "outputs": [],
   "source": [
    "data.to_csv('C:/Users/administer/Desktop/PCM__EHR/pigeon/ehr/index.csv')"
   ]
  }
 ],
 "metadata": {
  "kernelspec": {
   "display_name": "tensorflow2_cpu",
   "language": "python",
   "name": "python3"
  },
  "language_info": {
   "codemirror_mode": {
    "name": "ipython",
    "version": 3
   },
   "file_extension": ".py",
   "mimetype": "text/x-python",
   "name": "python",
   "nbconvert_exporter": "python",
   "pygments_lexer": "ipython3",
   "version": "3.11.5"
  }
 },
 "nbformat": 4,
 "nbformat_minor": 2
}

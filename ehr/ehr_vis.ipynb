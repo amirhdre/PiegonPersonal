{
 "cells": [
  {
   "cell_type": "code",
   "execution_count": 26,
   "metadata": {},
   "outputs": [],
   "source": [
    "import pandas as pd\n",
    "import numpy as np\n",
    "import matplotlib.pyplot as plt"
   ]
  },
  {
   "cell_type": "code",
   "execution_count": 4,
   "metadata": {},
   "outputs": [
    {
     "data": {
      "text/html": [
       "<div>\n",
       "<style scoped>\n",
       "    .dataframe tbody tr th:only-of-type {\n",
       "        vertical-align: middle;\n",
       "    }\n",
       "\n",
       "    .dataframe tbody tr th {\n",
       "        vertical-align: top;\n",
       "    }\n",
       "\n",
       "    .dataframe thead th {\n",
       "        text-align: right;\n",
       "    }\n",
       "</style>\n",
       "<table border=\"1\" class=\"dataframe\">\n",
       "  <thead>\n",
       "    <tr style=\"text-align: right;\">\n",
       "      <th></th>\n",
       "      <th>Unnamed: 0</th>\n",
       "      <th>Sample</th>\n",
       "      <th>Disease State</th>\n",
       "      <th>Time</th>\n",
       "      <th>Location</th>\n",
       "    </tr>\n",
       "  </thead>\n",
       "  <tbody>\n",
       "    <tr>\n",
       "      <th>0</th>\n",
       "      <td>0</td>\n",
       "      <td>Patient1</td>\n",
       "      <td>F</td>\n",
       "      <td>1</td>\n",
       "      <td>pigeon\\data\\TCR Data\\Pt1\\Pt1_F_1.csv</td>\n",
       "    </tr>\n",
       "    <tr>\n",
       "      <th>1</th>\n",
       "      <td>1</td>\n",
       "      <td>Patient1</td>\n",
       "      <td>F</td>\n",
       "      <td>3</td>\n",
       "      <td>pigeon\\data\\TCR Data\\Pt1\\Pt1_F_3.csv</td>\n",
       "    </tr>\n",
       "    <tr>\n",
       "      <th>2</th>\n",
       "      <td>2</td>\n",
       "      <td>Patient1</td>\n",
       "      <td>R</td>\n",
       "      <td>2</td>\n",
       "      <td>pigeon\\data\\TCR Data\\Pt1\\Pt1_R_2.csv</td>\n",
       "    </tr>\n",
       "    <tr>\n",
       "      <th>3</th>\n",
       "      <td>3</td>\n",
       "      <td>Patient1</td>\n",
       "      <td>R</td>\n",
       "      <td>4</td>\n",
       "      <td>pigeon\\data\\TCR Data\\Pt1\\Pt1_R_4.csv</td>\n",
       "    </tr>\n",
       "    <tr>\n",
       "      <th>4</th>\n",
       "      <td>4</td>\n",
       "      <td>Patient10</td>\n",
       "      <td>F</td>\n",
       "      <td>1</td>\n",
       "      <td>pigeon\\data\\TCR Data\\Pt10\\Pt10_F_1.csv</td>\n",
       "    </tr>\n",
       "  </tbody>\n",
       "</table>\n",
       "</div>"
      ],
      "text/plain": [
       "   Unnamed: 0     Sample Disease State  Time  \\\n",
       "0           0   Patient1             F     1   \n",
       "1           1   Patient1             F     3   \n",
       "2           2   Patient1             R     2   \n",
       "3           3   Patient1             R     4   \n",
       "4           4  Patient10             F     1   \n",
       "\n",
       "                                 Location  \n",
       "0    pigeon\\data\\TCR Data\\Pt1\\Pt1_F_1.csv  \n",
       "1    pigeon\\data\\TCR Data\\Pt1\\Pt1_F_3.csv  \n",
       "2    pigeon\\data\\TCR Data\\Pt1\\Pt1_R_2.csv  \n",
       "3    pigeon\\data\\TCR Data\\Pt1\\Pt1_R_4.csv  \n",
       "4  pigeon\\data\\TCR Data\\Pt10\\Pt10_F_1.csv  "
      ]
     },
     "execution_count": 4,
     "metadata": {},
     "output_type": "execute_result"
    }
   ],
   "source": [
    "# load the data\n",
    "data = pd.read_csv(\"index.csv\")\n",
    "data.head()"
   ]
  },
  {
   "cell_type": "code",
   "execution_count": 16,
   "metadata": {},
   "outputs": [
    {
     "data": {
      "text/html": [
       "<div>\n",
       "<style scoped>\n",
       "    .dataframe tbody tr th:only-of-type {\n",
       "        vertical-align: middle;\n",
       "    }\n",
       "\n",
       "    .dataframe tbody tr th {\n",
       "        vertical-align: top;\n",
       "    }\n",
       "\n",
       "    .dataframe thead th {\n",
       "        text-align: right;\n",
       "    }\n",
       "</style>\n",
       "<table border=\"1\" class=\"dataframe\">\n",
       "  <thead>\n",
       "    <tr style=\"text-align: right;\">\n",
       "      <th>Disease State</th>\n",
       "      <th>F</th>\n",
       "      <th>R</th>\n",
       "    </tr>\n",
       "    <tr>\n",
       "      <th>Time</th>\n",
       "      <th></th>\n",
       "      <th></th>\n",
       "    </tr>\n",
       "  </thead>\n",
       "  <tbody>\n",
       "    <tr>\n",
       "      <th>1</th>\n",
       "      <td>18</td>\n",
       "      <td>2</td>\n",
       "    </tr>\n",
       "    <tr>\n",
       "      <th>2</th>\n",
       "      <td>7</td>\n",
       "      <td>13</td>\n",
       "    </tr>\n",
       "    <tr>\n",
       "      <th>3</th>\n",
       "      <td>6</td>\n",
       "      <td>7</td>\n",
       "    </tr>\n",
       "    <tr>\n",
       "      <th>4</th>\n",
       "      <td>2</td>\n",
       "      <td>3</td>\n",
       "    </tr>\n",
       "  </tbody>\n",
       "</table>\n",
       "</div>"
      ],
      "text/plain": [
       "Disease State   F   R\n",
       "Time                 \n",
       "1              18   2\n",
       "2               7  13\n",
       "3               6   7\n",
       "4               2   3"
      ]
     },
     "execution_count": 16,
     "metadata": {},
     "output_type": "execute_result"
    }
   ],
   "source": [
    "subset = data[['Disease State', 'Time']]\n",
    "grouped = subset.groupby(['Time', 'Disease State']).size().unstack(fill_value=0)    # unstack levels the table\n",
    "grouped.head()"
   ]
  },
  {
   "cell_type": "code",
   "execution_count": 48,
   "metadata": {},
   "outputs": [
    {
     "data": {
      "text/plain": [
       "<matplotlib.legend.Legend at 0x1d4ef6d8670>"
      ]
     },
     "execution_count": 48,
     "metadata": {},
     "output_type": "execute_result"
    },
    {
     "data": {
      "image/png": "[encoded data removed]",
      "text/plain": [
       "<Figure size 640x480 with 1 Axes>"
      ]
     },
     "metadata": {},
     "output_type": "display_data"
    }
   ],
   "source": [
    "grouped.plot(kind = 'bar')\n",
    "y_ticks = np.array(range(0, np.max(grouped) + 1, 2))        # make the y ticks integers\n",
    "plt.style.use('ggplot')                                     # use ggplot styling\n",
    "plt.xticks(rotation=0)                                      # x axis ticks should be upright\n",
    "plt.yticks(y_ticks)\n",
    "plt.grid(False)\n",
    "plt.ylabel('Frequency')\n",
    "plt.title('Disease State over Time')\n",
    "plt.legend(title='Disease State')"
   ]
  }
 ],
 "metadata": {
  "kernelspec": {
   "display_name": "Python 3",
   "language": "python",
   "name": "python3"
  },
  "language_info": {
   "codemirror_mode": {
    "name": "ipython",
    "version": 3
   },
   "file_extension": ".py",
   "mimetype": "text/x-python",
   "name": "python",
   "nbconvert_exporter": "python",
   "pygments_lexer": "ipython3",
   "version": "3.10.14"
  }
 },
 "nbformat": 4,
 "nbformat_minor": 2
}
